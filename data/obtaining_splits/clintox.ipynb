{
 "cells": [
  {
   "cell_type": "markdown",
   "metadata": {},
   "source": [
    "##### This notebook generates train / valid / test (0.8 / 0.1 / 0.1) splits for ClinTox, based on the random splitting method in MoleculeNet\n",
    "\n",
    "Splits were created for seeds of 122, 123, 124 (same seeds as MoleculeNet). \n",
    "\n",
    "All splits are saved in data/clintox/split_data folder \n",
    "\n",
    "Raw ClinTox data was obtained from MoleculeNet.\n",
    "- MoleculeNet Data: https://github.com/deepchem/deepchem/tree/master/examples/clintox/datasets\n",
    "- MoleculeNet Splitting method: https://github.com/deepchem/deepchem/blob/master/deepchem/splits/splitters.py"
   ]
  },
  {
   "cell_type": "code",
   "execution_count": null,
   "metadata": {},
   "outputs": [],
   "source": [
    "# general and data handling\n",
    "import numpy as np\n",
    "import pandas as pd\n",
    "import os\n",
    "from collections import Counter\n",
    "import time\n",
    "import random\n",
    "import joblib\n",
    "\n",
    "# Required RDKit modules\n",
    "import rdkit as rd\n",
    "from rdkit import DataStructs\n",
    "from rdkit.Chem import AllChem\n",
    "\n",
    "# modeling\n",
    "import sklearn as sk\n",
    "from sklearn.model_selection import train_test_split"
   ]
  },
  {
   "cell_type": "code",
   "execution_count": null,
   "metadata": {},
   "outputs": [],
   "source": [
    "import torch\n",
    "device=torch.device(\"cuda:0\" if torch.cuda.is_available() else \"cpu\")  "
   ]
  },
  {
   "cell_type": "code",
   "execution_count": null,
   "metadata": {},
   "outputs": [],
   "source": [
    "import datetime, os"
   ]
  },
  {
   "cell_type": "markdown",
   "metadata": {},
   "source": [
    "##### Settings"
   ]
  },
  {
   "cell_type": "code",
   "execution_count": null,
   "metadata": {},
   "outputs": [],
   "source": [
    "# set seed value\n",
    "seed_value = 124 #122 123 124, as used in MoleculeNet\n",
    "torch.manual_seed(seed_value)\n",
    "torch.cuda.manual_seed(seed_value)\n",
    "np.random.seed(seed_value)\n",
    "random.seed(seed_value)\n",
    "torch.backends.cudnn.enabled=False\n",
    "torch.backends.cudnn.deterministic=True"
   ]
  },
  {
   "cell_type": "code",
   "execution_count": null,
   "metadata": {},
   "outputs": [],
   "source": [
    "# number of bits for morgan fingerprints\n",
    "morgan_bits = 4096"
   ]
  },
  {
   "cell_type": "code",
   "execution_count": null,
   "metadata": {},
   "outputs": [],
   "source": [
    "# number of radius for morgan fingerprints\n",
    "morgan_radius = 2"
   ]
  },
  {
   "cell_type": "markdown",
   "metadata": {},
   "source": [
    "##### Load data"
   ]
  },
  {
   "cell_type": "code",
   "execution_count": null,
   "metadata": {},
   "outputs": [],
   "source": [
    "clintox_file = '../../data/datasets/clintox/raw_data/clintox.csv'\n",
    "clintox_task = ['CT_TOX']\n",
    "\n",
    "clintox_data = pd.read_csv(clintox_file)\n",
    "print('Reading {}... {} data loaded.'.format(clintox_file, len(clintox_data)))\n",
    "clintox_data.head(2)"
   ]
  },
  {
   "cell_type": "code",
   "execution_count": null,
   "metadata": {},
   "outputs": [],
   "source": [
    "data = [clintox_data]"
   ]
  },
  {
   "cell_type": "code",
   "execution_count": null,
   "metadata": {},
   "outputs": [],
   "source": [
    "all_tasks = clintox_task "
   ]
  },
  {
   "cell_type": "markdown",
   "metadata": {},
   "source": [
    "##### Process data"
   ]
  },
  {
   "cell_type": "code",
   "execution_count": null,
   "metadata": {},
   "outputs": [],
   "source": [
    "# Convert SMILES to CANONICAL SMILES\n",
    "# In the process of canonicalizing SMILES, any bad SMILES definition \n",
    "#     is caught and removed from the dataset\n",
    "\n",
    "for i in range(len(data)):\n",
    "    smis = list(data[i].smiles)\n",
    "\n",
    "    cans = []\n",
    "    for smi in smis:\n",
    "        mol = rd.Chem.MolFromSmiles(smi)\n",
    "        # see whether can be parsed to mol\n",
    "        if mol:\n",
    "            can = rd.Chem.MolToSmiles(mol, True)\n",
    "            cans.append(can)\n",
    "        else:\n",
    "            cans.append(np.nan)\n",
    "\n",
    "    data[i]['SMILES'] = cans\n",
    "    \n",
    "    # drop data point that has invalid molecule\n",
    "    data[i] = data[i][data[i]['SMILES'].notna()]"
   ]
  },
  {
   "cell_type": "markdown",
   "metadata": {},
   "source": [
    "#####  MoleculeNet Split "
   ]
  },
  {
   "cell_type": "code",
   "execution_count": null,
   "metadata": {},
   "outputs": [],
   "source": [
    "### Method borrowed from MoleculeNet for random splits of 0.8 / 0.1 / 0.1, train / test / valid \n",
    "# Returns index of random train, test, valid datasets in array of [train,test,valid]\n",
    "\n",
    "def split(dataset,\n",
    "            seed=None,\n",
    "            frac_train=.8,\n",
    "            frac_valid=.1,\n",
    "            frac_test=.1,\n",
    "            log_every_n=None):\n",
    "    \"\"\"\n",
    "        Splits internal compounds randomly into train/validation/test.\n",
    "        \"\"\"\n",
    "    np.testing.assert_almost_equal(frac_train + frac_valid + frac_test, 1.)\n",
    "    if not seed is None:\n",
    "        np.random.seed(seed)\n",
    "    num_datapoints = len(dataset)\n",
    "    train_cutoff = int(frac_train * num_datapoints)\n",
    "    valid_cutoff = int((frac_train + frac_valid) * num_datapoints)\n",
    "    shuffled = np.random.permutation(range(num_datapoints))\n",
    "    return (shuffled[:train_cutoff], shuffled[train_cutoff:valid_cutoff],\n",
    "            shuffled[valid_cutoff:])"
   ]
  },
  {
   "cell_type": "code",
   "execution_count": null,
   "metadata": {},
   "outputs": [],
   "source": [
    "temp_train_data = []\n",
    "temp_test_data = []\n",
    "temp_valid_data = []\n",
    "for i in range(len(data)):\n",
    "    splitter_i = split(data[i])\n",
    "    for j in range(len(splitter_i)):\n",
    "            if j==0: \n",
    "                temp_train_data.append(data[i].iloc[splitter_i[j]])\n",
    "            if j==1: \n",
    "                temp_test_data.append(data[i].iloc[splitter_i[j]])\n",
    "            if j==2: \n",
    "                temp_valid_data.append(data[i].iloc[splitter_i[j]])\n",
    "                \n",
    "train_data = temp_train_data[0]\n",
    "test_data  = temp_test_data[0]\n",
    "valid_data  = temp_valid_data[0]\n",
    "\n",
    "\n",
    "for i in range(1, len(data)):\n",
    "    train_data = train_data.merge(temp_train_data[i], how='outer', on='smiles')\n",
    "    test_data  = test_data.merge(temp_test_data[i], how='outer', on='smiles')\n",
    "    valid_data  = valid_data.merge(temp_valid_data[i], how='outer', on='smiles')\n",
    "\n",
    "\n",
    "data = [train_data, test_data, valid_data]"
   ]
  },
  {
   "cell_type": "code",
   "execution_count": null,
   "metadata": {},
   "outputs": [],
   "source": [
    "print(\"Total number of examples, train: \" + str(data[0].shape[0]))\n",
    "print(\"Total number of examples, test: \" + str(data[1].shape[0]))\n",
    "print(\"Total number of examples, valid: \" + str(data[2].shape[0]))\n",
    "print(\"Total number of examples, train+test+valid: \" + str(data[0].shape[0] + data[1].shape[0] + data[2].shape[0]))"
   ]
  },
  {
   "cell_type": "markdown",
   "metadata": {},
   "source": [
    "##### Save data"
   ]
  },
  {
   "cell_type": "code",
   "execution_count": null,
   "metadata": {},
   "outputs": [],
   "source": [
    "# To save data uncomment the path to dataset\n",
    "data_path = #f\"../../data/datasets/clintox/split_data/seed_{seed_value}/\"\n",
    "\n",
    "if not os.path.exists(data_path):\n",
    "    os.makedirs(data_path)"
   ]
  },
  {
   "cell_type": "code",
   "execution_count": null,
   "metadata": {},
   "outputs": [],
   "source": [
    "torch.save(data[0], data_path+\"train_data_clintox.pth\")\n",
    "torch.save(data[1], data_path+\"test_data_clintox.pth\")\n",
    "torch.save(data[2], data_path+\"valid_data_clintox.pth\")"
   ]
  },
  {
   "cell_type": "code",
   "execution_count": null,
   "metadata": {},
   "outputs": [],
   "source": [
    "# Check: load saved clintox train/test/valid data\n",
    "train_data=torch.load(data_path + 'train_data_clintox.pth')\n",
    "test_data=torch.load(data_path + 'test_data_clintox.pth')\n",
    "valid_data=torch.load(data_path + 'valid_data_clintox.pth')\n",
    "\n",
    "data = [train_data, test_data, valid_data]"
   ]
  }
 ],
 "metadata": {
  "kernelspec": {
   "display_name": "Python 3",
   "language": "python",
   "name": "python3"
  },
  "language_info": {
   "codemirror_mode": {
    "name": "ipython",
    "version": 3
   },
   "file_extension": ".py",
   "mimetype": "text/x-python",
   "name": "python",
   "nbconvert_exporter": "python",
   "pygments_lexer": "ipython3",
   "version": "3.7.4"
  }
 },
 "nbformat": 4,
 "nbformat_minor": 2
}
